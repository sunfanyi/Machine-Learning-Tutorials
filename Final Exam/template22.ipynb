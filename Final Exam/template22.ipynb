{
  "nbformat": 4,
  "nbformat_minor": 0,
  "metadata": {
    "colab": {
      "provenance": []
    },
    "kernelspec": {
      "name": "python3",
      "display_name": "Python 3"
    },
    "language_info": {
      "name": "python"
    }
  },
  "cells": [
    {
      "cell_type": "code",
      "source": [
        "import pandas as pd\n",
        "import numpy as np\n",
        "import matplotlib.pyplot as plt\n",
        "\n",
        "def gen_sample_grid(npx=200, npy=200, limit=1):\n",
        "  x1line = np.linspace(-limit, limit, npx)\n",
        "  x2line = np.linspace(-limit, limit, npy)\n",
        "  x1grid, x2grid = np.meshgrid(x1line, x2line)\n",
        "  Xgrid = np.array([x1grid, x2grid]).reshape([2,npx*npy]).T\n",
        "  return Xgrid,x1line,x2line\n",
        "\n"
      ],
      "metadata": {
        "id": "DkZCDRT9kcVn"
      },
      "execution_count": 1,
      "outputs": []
    },
    {
      "cell_type": "code",
      "source": [
        "#You may find lines or sections of the following code useful:\n",
        "def useful_code():\n",
        "  x_low = 0\n",
        "  x_high = 2*np.pi\n",
        "  n_x_values = 30\n",
        "  #define a set of n_x_values points between x_low and x_high (0 to \n",
        "  #2 pi in this case):\n",
        "  x = np.linspace(x_low,x_high,n_x_values) \n",
        "\n",
        "  #Normalise a vector (i.e. turn it into a unit vector):\n",
        "  v = np.array([4, 8, 1])\n",
        "  v_hat = v/np.linalg.norm(v)\n",
        "  print(\"Normalised vector: \", v_hat)\n",
        "\n",
        "  #find the minimum value within vector v:\n",
        "  print(\"Minimum of v (should be 1): \", np.min(v)) \n",
        "  #find where the minimum occured - NB zero indexed\n",
        "  #(NB can also do argmax() for maximum point)\n",
        "  print(\"Minimum occurs at element: \", np.argmin(v,axis=0))  \n",
        "\n",
        "  #calculate y values for the given x values, using y = cos(x)\n",
        "  y = np.cos(x) \n",
        "  integral = np.trapz(y, x=x) #integrate y using the trapezium rule\n",
        "  print(\"Integral (should be approx 0):\",integral) \n",
        "\n",
        "  loc = np.pi #set location to be pi (3.14...)\n",
        "  #interpolate function y(x) to find value at loc - i.e. y(loc):\n",
        "  val = np.interp(loc, x, y) \n",
        "  print(\"Value at pi (should be approx -1):\",val)\n",
        "\n",
        "  #summing and squaring:\n",
        "  print(\"Sum of y squared: \", np.sum(y**2))\n",
        "\n",
        "  #do a for loop\n",
        "  for cnt in range(4):\n",
        "    print(\"Iteration: \", cnt)\n",
        "\n",
        "  #Reshape matrix A such that it has the same shape as B:\n",
        "  A = np.array([[1,2],[3,4]])\n",
        "  print(\"A before reshaping:\\n\",A)\n",
        "  B = np.array([6,7,8,9])\n",
        "  print(\"B:\\n\",B)\n",
        "  A = np.reshape(A,B.shape)\n",
        "  print(\"A after reshaping to match B:\\n\",A)\n",
        "\n",
        "  #Multiply two matrices together: \n",
        "  A = np.array([[1,2],[3,4]])\n",
        "  B = np.array([[5,6],[7,8]])\n",
        "  C = np.matmul(A, B)\n",
        "  print(\"Multiplication of \\n\", A, \"\\nand\\n\", B, \"\\ngives:\\n\", C)\n",
        "\n",
        "  #Plotting functions/points:\n",
        "  fig, ax = plt.subplots()  #define a figure\n",
        "  #plot the points given by vectors x and y with a blue \n",
        "  #solid line ('b-'). k is black, r red and g green.\n",
        "  plt.plot(x, y, 'b-')      \n",
        "  plt.plot(x, y, 'k.')      #as above, but plot as black dots\n",
        "\n",
        "\n",
        "  #2D plotting and routines:\n",
        "\n",
        "  #generate two random sets of values x1 and x2\n",
        "  n_points = 20\n",
        "  x1 = np.random.normal(loc=0,scale=1,size=n_points)\n",
        "  x2 = np.random.normal(loc=0,scale=1,size=n_points)\n",
        "  #Combine two vectors x1 and x2, of length n_points, into \n",
        "  # a matrix of size n_points x 2\n",
        "  X = np.concatenate((np.reshape(x1,[n_points,1]),\n",
        "                      np.reshape(x2,[n_points,1])),axis=1) \n",
        "  \n",
        "  y = np.zeros([n_points]) #define y and set all values to zero\n",
        "  #now put all the class values to 1 where the x1 value is\n",
        "  # greater than 0.1\n",
        "  y[x1 > 0.2] = 1 \n",
        "\n",
        "  #points in x and y:\n",
        "  npx = 200 \n",
        "  npy = 200\n",
        "  #generate the grid to sample 2D space:\n",
        "  Xgrid,x1line,x2line = gen_sample_grid(npx,npy,3)\n",
        "  #generate an arbitrary 2D function - here do x1^2 + x2:\n",
        "  z = Xgrid[:,0]**2+Xgrid[:,1] \n",
        "  #and reshape it back to the grid\n",
        "  z = z.reshape([npx,npy])\n",
        "  fig, ax = plt.subplots()\n",
        "  #plot the values in z sampled at values given by the \n",
        "  #vectors x1line, x2line:\n",
        "  plt.contourf(x1line, x2line, z) \n",
        "  #plot scattered values in the n_points x 2 matrix X where \n",
        "  #corresponding values in the y vector equal 0:\n",
        "  ax.scatter(X[y == 0, 0], X[y == 0, 1]) \n",
        "  #then plot where y == 1:\n",
        "  ax.scatter(X[y == 1, 0], X[y == 1, 1]) \n",
        "\n",
        "#uncomment to run the code if you wish:\n",
        "#useful_code()"
      ],
      "metadata": {
        "id": "7l0OhKsmVBXV"
      },
      "execution_count": 2,
      "outputs": []
    },
    {
      "cell_type": "markdown",
      "source": [
        "#Q1"
      ],
      "metadata": {
        "id": "t_GJCwK2N1RR"
      }
    },
    {
      "cell_type": "code",
      "source": [
        "#Q1:\n",
        "\n",
        "#load in the data\n",
        "df = pd.read_csv(\"http://pogo.software/me4ml/ecqtu/d1.csv\")\n",
        "a = np.array(df['a'])\n",
        "b = np.array(df['b'])\n",
        "c = np.array(df['c'])\n",
        "\n",
        "n_points = a.size\n",
        "\n",
        "## Your code here:\n",
        "#(a)\n",
        "\n",
        "#(b)\n"
      ],
      "metadata": {
        "id": "RDqa_DjBWI4e"
      },
      "execution_count": 3,
      "outputs": []
    },
    {
      "cell_type": "markdown",
      "source": [
        "#Q2\n",
        "(a) \n",
        "\n",
        "(b) "
      ],
      "metadata": {
        "id": "Fo_cm_m3N3gh"
      }
    },
    {
      "cell_type": "markdown",
      "source": [
        "#Q3"
      ],
      "metadata": {
        "id": "pC679FhMN417"
      }
    },
    {
      "cell_type": "code",
      "source": [
        "#Q3:\n",
        "\n",
        "w = np.array([2.4, -1.8])\n",
        "wn = w/np.linalg.norm(w)\n",
        "w0 = 5\n",
        "\n",
        "df = pd.read_csv(\"http://pogo.software/me4ml/ecqtu/d3.csv\")\n",
        "x1 = np.array(df['x1'])\n",
        "x2 = np.array(df['x2'])\n",
        "y = np.array(df['y'])\n",
        "\n",
        "n_points = x1.size\n",
        "\n",
        "#Your code here...\n",
        "\n",
        "\n"
      ],
      "metadata": {
        "id": "9Det-4sLpmyi"
      },
      "execution_count": 4,
      "outputs": []
    },
    {
      "cell_type": "markdown",
      "source": [
        "#Q4\n",
        "\n"
      ],
      "metadata": {
        "id": "J9Yl7MJ6N6pf"
      }
    },
    {
      "cell_type": "markdown",
      "source": [
        "#Q5"
      ],
      "metadata": {
        "id": "V_sulbwSN7zK"
      }
    },
    {
      "cell_type": "code",
      "source": [
        "#Q5 \n",
        "\n",
        "df = pd.read_csv(\"http://pogo.software/me4ml/ecqtu/d5.csv\")\n",
        "x1 = np.array(df['x1'])\n",
        "x2 = np.array(df['x2'])\n",
        "y = np.array(df['y'])\n",
        "\n",
        "n_points = y.size \n",
        "\n",
        "#Your code here...\n",
        "\n"
      ],
      "metadata": {
        "id": "IbQrW8VmMwug"
      },
      "execution_count": 5,
      "outputs": []
    },
    {
      "cell_type": "markdown",
      "source": [
        "#Q6"
      ],
      "metadata": {
        "id": "_AdKlR4dN99Q"
      }
    },
    {
      "cell_type": "code",
      "source": [
        "df = pd.read_csv(\"http://pogo.software/me4ml/ecqtu/d6.csv\")\n",
        "x = np.array(df['x'])\n",
        "y = np.array(df['y'])\n",
        "\n",
        "n_points = y.size \n",
        "\n",
        "#Your code here...\n"
      ],
      "metadata": {
        "id": "KCUnEC0-jbHY"
      },
      "execution_count": 6,
      "outputs": []
    },
    {
      "cell_type": "markdown",
      "source": [
        "#Q7"
      ],
      "metadata": {
        "id": "mDo1Yc6AzqC7"
      }
    },
    {
      "cell_type": "code",
      "source": [
        "def sigmoid(x):\n",
        "  return 1/(1+np.exp(-x))\n",
        "\n",
        "\n",
        "#Your code here...\n"
      ],
      "metadata": {
        "id": "kJmIvOs8zrno"
      },
      "execution_count": 7,
      "outputs": []
    }
  ]
}