{
  "nbformat": 4,
  "nbformat_minor": 0,
  "metadata": {
    "colab": {
      "name": "initial_material.ipynb",
      "provenance": [],
      "collapsed_sections": []
    },
    "kernelspec": {
      "name": "python3",
      "display_name": "Python 3"
    },
    "language_info": {
      "name": "python"
    }
  },
  "cells": [
    {
      "cell_type": "markdown",
      "metadata": {
        "id": "mD90KyeUuCXZ"
      },
      "source": [
        "Note: through this exam you should only make use of numpy, matplotlib and pandas."
      ]
    },
    {
      "cell_type": "markdown",
      "metadata": {
        "id": "Hk5jqeTfpXWs"
      },
      "source": [
        "#Q1"
      ]
    },
    {
      "cell_type": "code",
      "metadata": {
        "id": "g0_W2aJzpNJn"
      },
      "source": [
        "import pandas as pd\n",
        "import numpy as np\n",
        "import matplotlib.pyplot as plt\n",
        "\n",
        "#load in the data\n",
        "df = pd.read_csv(\"http://pogo.software/me4ml/rjteh/d1.csv\")\n",
        "x1 = df['x1']\n",
        "x2 = df['x2']\n",
        "\n",
        "#Continue here..."
      ],
      "execution_count": null,
      "outputs": []
    },
    {
      "cell_type": "markdown",
      "metadata": {
        "id": "OMklVmgXqRti"
      },
      "source": [
        "#Q2"
      ]
    },
    {
      "cell_type": "code",
      "metadata": {
        "id": "JP67hkyCqUeY"
      },
      "source": [
        "#This function may be useful to define the sampling grid for this question\n",
        "def gen_sample_grid(npx=200, npy=200, limit=1):\n",
        "  x1line = np.linspace(-limit, limit, npx)\n",
        "  x2line = np.linspace(-limit, limit, npy)\n",
        "  x1grid, x2grid = np.meshgrid(x1line, x2line)\n",
        "  Xgrid = np.array([x1grid, x2grid]).reshape([2,npx*npy]).T\n",
        "  return Xgrid,x1line,x2line\n",
        "\n",
        "#this function may be useful to calculate the probability density function for a given set of means and covariance\n",
        "def prob_density_2d(test_vals=np.array([[0], [0]]), mean1=0, mean2=0, covar_mat=np.array([[1, 0],[0, 1]]) ):\n",
        "  #test_vals is an m x 2 numpy array containing all the values at which to perform the calculation\n",
        "  #mean1, mean2 are the means in dimensions 1 and 2 respectively\n",
        "  #covar_mat is a 2 x 2 covariance matrix\n",
        "  #returns probability density values for each of the m values\n",
        "  return 1 / (2 * np.pi * np.sqrt(np.linalg.det(covar_mat))) * np.exp(\n",
        "    -1 / 2 * (np.matmul((test_vals-np.array((mean1,mean2)).T), np.linalg.inv(covar_mat)) \n",
        "    * (test_vals-np.array((mean1,mean2)).T)).sum(-1))\n",
        "\n",
        "df = pd.read_csv(\"http://pogo.software/me4ml/rjteh/d2.csv\")\n",
        "x1 = df['x1']\n",
        "x2 = df['x2']\n",
        "clTrue = df['y']\n",
        "\n",
        "#Continue 2(a) and 2(b) here..."
      ],
      "execution_count": null,
      "outputs": []
    },
    {
      "cell_type": "markdown",
      "metadata": {
        "id": "ntQqcbXWs-vY"
      },
      "source": [
        "#Q2 (c)\n",
        "\n",
        "Answer here..."
      ]
    },
    {
      "cell_type": "markdown",
      "metadata": {
        "id": "2njQEllUtHfi"
      },
      "source": [
        "#Q2 (d)\n",
        "\n",
        "Answer here..."
      ]
    },
    {
      "cell_type": "markdown",
      "metadata": {
        "id": "LbSIzGwetNJL"
      },
      "source": [
        "#Q3"
      ]
    },
    {
      "cell_type": "code",
      "metadata": {
        "id": "IJk1JptEtOh5"
      },
      "source": [
        "df = pd.read_csv(\"http://pogo.software/me4ml/rjteh/d3.csv\")\n",
        "x = df['x']\n",
        "y = df['y']\n",
        "\n",
        "#Continue here..."
      ],
      "execution_count": null,
      "outputs": []
    },
    {
      "cell_type": "markdown",
      "metadata": {
        "id": "hRjcCjA3tnqJ"
      },
      "source": [
        "#Q4 (a)"
      ]
    },
    {
      "cell_type": "code",
      "metadata": {
        "id": "Sf_t8TtOtpjJ"
      },
      "source": [
        "#Continue here... \n",
        "#or write out as a text field if you wish."
      ],
      "execution_count": null,
      "outputs": []
    },
    {
      "cell_type": "markdown",
      "metadata": {
        "id": "YrLixIUftuxs"
      },
      "source": [
        "#Q4 (b)\n",
        "\n",
        "Answer here..."
      ]
    }
  ]
}