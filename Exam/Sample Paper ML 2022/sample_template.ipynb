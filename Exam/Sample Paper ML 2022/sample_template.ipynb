{
  "nbformat": 4,
  "nbformat_minor": 0,
  "metadata": {
    "colab": {
      "name": "sample_template.ipynb",
      "provenance": [],
      "collapsed_sections": []
    },
    "kernelspec": {
      "name": "python3",
      "display_name": "Python 3"
    },
    "language_info": {
      "name": "python"
    }
  },
  "cells": [
    {
      "cell_type": "markdown",
      "metadata": {
        "id": "12Dhe_S-1W9L"
      },
      "source": [
        "# Q1"
      ]
    },
    {
      "cell_type": "code",
      "metadata": {
        "id": "0dTzD5z11Se8"
      },
      "source": [
        "import pandas as pd\n",
        "import numpy as np\n",
        "import matplotlib.pyplot as plt\n",
        "\n",
        "#load in the data\n",
        "df = pd.read_csv(\"http://pogo.software/me4ml/womue/s1.csv\")\n",
        "x = df['x']\n",
        "y = df['y']\n",
        "\n",
        "#Continue here...\n"
      ],
      "execution_count": 1,
      "outputs": []
    },
    {
      "cell_type": "markdown",
      "metadata": {
        "id": "IJAdyysy1aF0"
      },
      "source": [
        "# Q2"
      ]
    },
    {
      "cell_type": "code",
      "metadata": {
        "id": "xWGJEs8h1Zd7"
      },
      "source": [
        "import pandas as pd\n",
        "import numpy as np\n",
        "import matplotlib.pyplot as plt\n",
        "\n",
        "#This function may be useful to define the sampling grid for this question\n",
        "def gen_sample_grid(npx=200, npy=200, limit=1):\n",
        "  x1line = np.linspace(-limit, limit, npx)\n",
        "  x2line = np.linspace(-limit, limit, npy)\n",
        "  x1grid, x2grid = np.meshgrid(x1line, x2line)\n",
        "  Xgrid = np.array([x1grid, x2grid]).reshape([2,npx*npy]).T\n",
        "  return Xgrid,x1line,x2line\n",
        "\n",
        "#Continue here...\n"
      ],
      "execution_count": 1,
      "outputs": []
    },
    {
      "cell_type": "markdown",
      "metadata": {
        "id": "Orlmgczs1b8p"
      },
      "source": [
        "# Q3"
      ]
    },
    {
      "cell_type": "code",
      "metadata": {
        "id": "KJbpl7e8mi0u"
      },
      "source": [
        "import pandas as pd\n",
        "import numpy as np\n",
        "import matplotlib.pyplot as plt\n",
        "\n",
        "#load in the data\n",
        "df = pd.read_csv(\"http://pogo.software/me4ml/womue/s2.csv\")\n",
        "#time values:\n",
        "t = np.array(df['x'])\n",
        "#actual data:\n",
        "sig = np.array(df['y'])\n",
        "\n",
        "#Continue here..."
      ],
      "execution_count": null,
      "outputs": []
    },
    {
      "cell_type": "markdown",
      "metadata": {
        "id": "jc0EDULi1dV3"
      },
      "source": [
        "# Q4"
      ]
    },
    {
      "cell_type": "code",
      "metadata": {
        "id": "pZ4mIIBPLlLc"
      },
      "source": [
        ""
      ],
      "execution_count": null,
      "outputs": []
    },
    {
      "cell_type": "markdown",
      "metadata": {
        "id": "t2FmlLIF1gZI"
      },
      "source": [
        "# Q5"
      ]
    },
    {
      "cell_type": "markdown",
      "metadata": {
        "id": "WEtj0-Hx1izu"
      },
      "source": [
        "# Q6"
      ]
    },
    {
      "cell_type": "code",
      "metadata": {
        "id": "wDbZ89tmLmOv"
      },
      "source": [
        "p1 = np.array((2/3,1/3,2/3))\n",
        "p2 = np.array((1/3,2/3,-2/3))\n",
        "\n",
        "#Continue here..."
      ],
      "execution_count": null,
      "outputs": []
    },
    {
      "cell_type": "markdown",
      "metadata": {
        "id": "YLXOQR1m1kW_"
      },
      "source": [
        "# Q7"
      ]
    },
    {
      "cell_type": "markdown",
      "metadata": {
        "id": "qY8TUltORQBL"
      },
      "source": [
        "(a)"
      ]
    },
    {
      "cell_type": "code",
      "metadata": {
        "id": "bf-gEDuGRTMn"
      },
      "source": [
        "#(b)"
      ],
      "execution_count": null,
      "outputs": []
    },
    {
      "cell_type": "code",
      "metadata": {
        "id": "uQHSQ96RRVBR"
      },
      "source": [
        "#(c)\n",
        "\n",
        "#load in the data\n",
        "df = pd.read_csv(\"http://pogo.software/me4ml/womue/s3.csv\")\n",
        "#time values:\n",
        "x1 = np.array(df['x1'])\n",
        "#actual data:\n",
        "x2 = np.array(df['x2'])\n",
        "\n",
        "#Continue here..."
      ],
      "execution_count": null,
      "outputs": []
    }
  ]
}