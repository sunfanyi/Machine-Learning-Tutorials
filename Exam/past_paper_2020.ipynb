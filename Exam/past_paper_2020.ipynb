{
  "nbformat": 4,
  "nbformat_minor": 0,
  "metadata": {
    "colab": {
      "provenance": [],
      "toc_visible": true
    },
    "kernelspec": {
      "name": "python3",
      "display_name": "Python 3"
    },
    "language_info": {
      "name": "python"
    }
  },
  "cells": [
    {
      "cell_type": "markdown",
      "source": [
        "# Question 1"
      ],
      "metadata": {
        "id": "kRgv7zxIgU-d"
      }
    },
    {
      "cell_type": "code",
      "execution_count": null,
      "metadata": {
        "colab": {
          "base_uri": "https://localhost:8080/"
        },
        "id": "szZTuihXfzJr",
        "outputId": "681f34ff-3d46-4d8c-a897-e2fd7807befe"
      },
      "outputs": [
        {
          "output_type": "stream",
          "name": "stdout",
          "text": [
            "[3.  3.1] belongs to 1\n",
            "2.4 3.1999999999999997 2.6\n",
            "[2.1 2.7] belongs to 1\n"
          ]
        }
      ],
      "source": [
        "import numpy as np\n",
        "import matplotlib.pyplot as plt\n",
        "\n",
        "# (a)\n",
        "# |a-b| + |a-c| > |b-c|\n",
        "\n",
        "# (b)\n",
        "a = np.array([2, 5])\n",
        "b = np.array([5, 3])\n",
        "c = np.array([3, 1])\n",
        "\n",
        "x = np.array([3, 3.1])\n",
        "L_a = np.max(np.abs(x-a))\n",
        "L_b = np.max(np.abs(x-b))\n",
        "L_c = np.max(np.abs(x-c))\n",
        "\n",
        "class_info = np.argmin([L_a, L_b, L_c]) + 1\n",
        "print(x, 'belongs to', class_info)\n",
        "\n",
        "# (c)\n",
        "x = np.array([2.1, 2.7])\n",
        "L1_a = np.sum(np.abs(x-a))\n",
        "L1_b = np.sum(np.abs(x-b))\n",
        "L1_c = np.sum(np.abs(x-c))\n",
        "print(L1_a, L1_b, L1_c)\n",
        "\n",
        "class_info = np.argmin([L1_a, L1_b, L1_c]) + 1\n",
        "print(x, 'belongs to class', class_info)\n"
      ]
    },
    {
      "cell_type": "markdown",
      "source": [
        "# Question 2"
      ],
      "metadata": {
        "id": "Q8dk-h-_iCxD"
      }
    },
    {
      "cell_type": "code",
      "source": [
        "# (a)\n",
        "# lambda(a1|w1): given the bulb doesn't fail, loss when pruchase from company A\n",
        "# => 2\n",
        "# lambda(a1|w2): given the bulb fails, loss when pruchase from company A\n",
        "# => 32\n",
        "# lambda(a2|w1): given the bulb doesn't fail, loss when pruchase from company B\n",
        "# => 3\n",
        "# lambda(a2|w2): given the bulb fails, loss when pruchase from company B\n",
        "# => 18\n",
        "\n",
        "# (b)\n",
        "lambda_a1w1 = 2\n",
        "lambda_a1w2 = 32\n",
        "lambda_a2w1 = 3\n",
        "lambda_a2w2 = 18\n",
        "\n",
        "p_w2a1 = 0.07\n",
        "p_w1a1 = 1 - p_w2a1\n",
        "p_w2a2 = 0.05\n",
        "p_w1a2 = 1 - p_w2a2\n",
        "\n",
        "R_a1 = lambda_a1w1 * p_w1a1 + lambda_a1w2 * p_w2a1\n",
        "R_a2 = lambda_a2w1 * p_w1a2 + lambda_a2w2 * p_w2a2\n",
        "print('Risk of choosing company A:', R_a1)\n",
        "print('Risk of choosing company B:', R_a2)\n",
        "if R_a1 <= R_a2:\n",
        "  print(\"Therefore choose company A.\")\n",
        "else:\n",
        "  print(\"Therefore choose company B.\")"
      ],
      "metadata": {
        "colab": {
          "base_uri": "https://localhost:8080/"
        },
        "id": "0L4yjHRXiF0A",
        "outputId": "76f0df9f-3520-45a6-fe88-b41580526a67"
      },
      "execution_count": null,
      "outputs": [
        {
          "output_type": "stream",
          "name": "stdout",
          "text": [
            "Risk of choosing company A: 4.1\n",
            "Risk of choosing company B: 3.7499999999999996\n",
            "Therefore choose company B.\n"
          ]
        }
      ]
    },
    {
      "cell_type": "markdown",
      "source": [
        "# Question 3"
      ],
      "metadata": {
        "id": "7TxpduEanHqp"
      }
    },
    {
      "cell_type": "code",
      "source": [
        "p_w1 = 0.3\n",
        "p_w2 = 0.4\n",
        "p_w3 = 0.3\n",
        "\n",
        "p_xw1 = 0.2\n",
        "p_xw2 = 0.2\n",
        "p_xw3 = 0.4\n",
        "\n",
        "evidence = p_w1*p_xw1 + p_w2*p_xw2 + p_w3*p_xw3\n",
        "p_w1x = (p_xw1 * p_w1) / evidence\n",
        "p_w2x = (p_xw2 * p_w2) / evidence\n",
        "p_w3x = (p_xw3 * p_w3) / evidence\n",
        "\n",
        "print('Posterior:')\n",
        "print(p_w1x)\n",
        "print(p_w2x)\n",
        "print(p_w3x)\n",
        "\n",
        "print('Choose the one with the largest posterior, so choose w%d.' %\n",
        "      (np.argmax([p_w1x, p_w2x, p_w3x])+1))"
      ],
      "metadata": {
        "colab": {
          "base_uri": "https://localhost:8080/"
        },
        "id": "6dN3_dr2nJrG",
        "outputId": "9f05f054-d542-4e76-eaab-06edfd0d0e06"
      },
      "execution_count": null,
      "outputs": [
        {
          "output_type": "stream",
          "name": "stdout",
          "text": [
            "Posterior:\n",
            "0.23076923076923075\n",
            "0.30769230769230776\n",
            "0.4615384615384615\n",
            "Choose the one with the largest posterior, so choose w3.\n"
          ]
        }
      ]
    },
    {
      "cell_type": "markdown",
      "source": [
        "# Question 4"
      ],
      "metadata": {
        "id": "-Jf_sSyDpB57"
      }
    },
    {
      "cell_type": "markdown",
      "source": [
        "**(a)**\n",
        "\n",
        "Suppose we have 3 points on the hyperplane x1, x2 and x3:\n",
        "\n",
        "w.T * x1 + w0 = w.T * x2 + w0 = w.T * x3 + w0 = 0\n",
        "\n",
        "w.T * (x1 - x2) = w.T * (x1 - x3) = w.T * (x2 - x3) = 0\n",
        "\n",
        "This means w is perpendicular to all the vectors (x1 - x2), (x1 - x3), (x2 - x3). These three vectors are all on the hyperplane so w has to be perpendicular to the hyperplane."
      ],
      "metadata": {
        "id": "2aoknxfvqh3X"
      }
    },
    {
      "cell_type": "code",
      "source": [
        "# (b)\n",
        "w0 = 10\n",
        "w = np.array([2, -7, 1])\n",
        "x = np.array([-3, 2, 9])\n",
        "\n",
        "g = np.matmul(w, x) + w0\n",
        "print('g =',g)\n",
        "if g <= 0:\n",
        "  print('Class 1')\n",
        "else:\n",
        "  print('Class 2')\n",
        "\n",
        "# (c)\n",
        "x = np.array([3, 2, 1])\n",
        "g = np.matmul(w, x) + w0\n",
        "r = g / np.sqrt(w[0]**2 + w[1]**2 + w[2]**2)\n",
        "print('Distance =', r)"
      ],
      "metadata": {
        "colab": {
          "base_uri": "https://localhost:8080/"
        },
        "id": "zsBT9xVopDhC",
        "outputId": "23c7967d-5e69-449d-c78a-624e3d7f1a98"
      },
      "execution_count": null,
      "outputs": [
        {
          "output_type": "stream",
          "name": "stdout",
          "text": [
            "g = -1\n",
            "Class 1\n",
            "Distance = 0.408248290463863\n"
          ]
        }
      ]
    },
    {
      "cell_type": "markdown",
      "source": [
        "# Question 5"
      ],
      "metadata": {
        "id": "6nPqWdI7s7Yl"
      }
    },
    {
      "cell_type": "code",
      "source": [
        "# (a)\n",
        "x1 = np.array([1, -2])\n",
        "x2 = np.array([2, -4])\n",
        "x3 = np.array([3, -6])\n",
        "\n",
        "X = np.array([x1, x2, x3])\n",
        "mu = np.mean(X, axis=0)\n",
        "cov = np.matmul((X-mu).T, (X-mu)) / len(x1)\n",
        "# print(cov)\n",
        "\n",
        "eigvals, eigvec = np.linalg.eig(cov)\n",
        "# print(eigvals)\n",
        "# print(eigvec)\n",
        "eigvec = eigvec[:, np.argsort(eigvals)[::-1]]\n",
        "\n",
        "pc1 = eigvec[:, 0]\n",
        "pc2 = eigvec[:, 1]\n",
        "print('First principle component:\\n', pc1)\n",
        "print('Second principle component:\\n', pc2)\n",
        "\n",
        "# (b)\n",
        "p1 = np.array([0.667, 0.667, 0.333])\n",
        "p2 = np.array([0.596, -0.298, 0.745])\n",
        "p3 = np.array([0.333, 0.667, -0.667])\n",
        "x = np.array([-2, 3, 1])\n",
        "\n",
        "t1 = np.dot(x, p1) * p1\n",
        "t2 = np.dot(x, p2) * p2\n",
        "t3 = np.dot(x, p3) * p3\n",
        "\n",
        "# print('x =', t1, '+', t2, '+', t3)\n",
        "# print('x =', t1+t2+t3)  # this doesn't give correct x because the principle components are not orthogonal\n",
        "print('x = t1 + t2 + t3')\n",
        "print(np.dot(x, p1), np.dot(x, p2), np.dot(x, p3))"
      ],
      "metadata": {
        "colab": {
          "base_uri": "https://localhost:8080/"
        },
        "id": "as2e-VEds9Cp",
        "outputId": "979e1bf9-3ff4-4199-803e-6dbbc8765697"
      },
      "execution_count": 62,
      "outputs": [
        {
          "output_type": "stream",
          "name": "stdout",
          "text": [
            "First principle component:\n",
            " [ 0.4472136  -0.89442719]\n",
            "Second principle component:\n",
            " [-0.89442719 -0.4472136 ]\n",
            "x = [0.667 0.667 0.333] + [-0.799236  0.399618 -0.999045] + [ 0.222444  0.445556 -0.445556]\n",
            "x = [ 0.090208  1.512174 -1.111601]\n",
            "1.0000000000000002 -1.3409999999999997 0.6680000000000004\n"
          ]
        }
      ]
    },
    {
      "cell_type": "markdown",
      "source": [
        "# Question 6"
      ],
      "metadata": {
        "id": "tfclhJ690wsn"
      }
    },
    {
      "cell_type": "code",
      "source": [
        "# (a)\n",
        "# Because complex relationships between features can't be captured with linear activation functions.\n",
        "# Combination of non linear activation functions enable complexity.\n",
        "\n",
        "# (b)\n",
        "x = np.linspace(-3, 3, 100)\n",
        "y = x.copy()\n",
        "y[x<0] = 0\n",
        "plt.plot(x, y)\n",
        "\n",
        "# (c)\n",
        "def sigmoid(x):\n",
        "  S = 1 / (1 + np.exp(-x))\n",
        "  return S\n",
        "\n",
        "# (c)\n",
        "ytrue = 0.8\n",
        "x = 0.2\n",
        "beta = -0.8\n",
        "gx = 0.1*sigmoid(x+0.3) + beta*sigmoid(-0.8*x-0.1) - 0.5\n",
        "fgx = sigmoid(gx)\n",
        "dgdb = sigmoid(-0.8*x-0.1)\n",
        "dfdg = np.exp(-gx) / (1 + np.exp(-gx))**2  # derivative of sigmoid\\\n",
        "\n",
        "dfdb = dfdg * dgdb\n",
        "dLdb = 2 * (fgx - ytrue) * dfdb\n",
        "print(dLdb)"
      ],
      "metadata": {
        "colab": {
          "base_uri": "https://localhost:8080/",
          "height": 283
        },
        "id": "Jcc27imr00Tp",
        "outputId": "ffe068cf-3b3b-487c-f600-c7f993b63ff4"
      },
      "execution_count": 79,
      "outputs": [
        {
          "output_type": "stream",
          "name": "stdout",
          "text": [
            "-0.09118212917428394\n"
          ]
        },
        {
          "output_type": "display_data",
          "data": {
            "text/plain": [
              "<Figure size 432x288 with 1 Axes>"
            ],
            "image/png": "[encoded data removed]"
          },
          "metadata": {
            "needs_background": "light"
          }
        }
      ]
    },
    {
      "cell_type": "markdown",
      "source": [
        "# Question 7"
      ],
      "metadata": {
        "id": "fND0YzqXCY6E"
      }
    },
    {
      "cell_type": "code",
      "source": [
        "X = np.array([[-1.5, 0.9],\n",
        "        [0.3, 0.7],\n",
        "        [0.5, -0.9],\n",
        "        [-0.1, -1.2],\n",
        "        [-0.2, 0.6],\n",
        "        [1.3, -1.1],\n",
        "        [0.2, 1.4],\n",
        "        [-0.8, -0.7],\n",
        "        [1.2, -1.6],\n",
        "        [0.6, -0.3]])\n",
        "mean1 = np.array([-1, 1])\n",
        "mean2 = np.array([1, -1])\n",
        "\n",
        "plt.plot(X[:, 0], X[:, 1], '.')\n",
        "plt.plot(mean1[0], mean1[1], 'kx')\n",
        "plt.plot(mean2[0], mean2[1], 'kx')\n",
        "plt.show()\n",
        "class_info = np.ndarray(len(X))\n",
        "for i in range(len(X)):\n",
        "  dist1 = np.sqrt((X[i][0] - mean1[0])**2 + (X[i][1] - mean1[1])**2)\n",
        "  dist2 = np.sqrt((X[i][0] - mean2[0])**2 + (X[i][1] - mean2[1])**2)\n",
        "  class_info[i] = 1 if dist1 < dist2 else 2\n",
        "\n",
        "mean1 = np.mean(X[class_info==1, :], axis=0)\n",
        "mean2 = np.mean(X[class_info==2, :], axis=0)\n",
        "\n",
        "plt.plot(X[class_info==1, 0], X[class_info==1, 1], 'b.')\n",
        "plt.plot(X[class_info==2, 0], X[class_info==2, 1], 'r.')\n",
        "plt.plot(mean1[0], mean1[1], 'kx')\n",
        "plt.plot(mean2[0], mean2[1], 'kx')\n",
        "plt.show()\n",
        "\n",
        "print('mean1:', mean1)\n",
        "print('mean2:', mean2)"
      ],
      "metadata": {
        "colab": {
          "base_uri": "https://localhost:8080/",
          "height": 552
        },
        "id": "kS9d0vATCbEX",
        "outputId": "88560826-4f9e-49df-82fd-e2626f629dab"
      },
      "execution_count": 91,
      "outputs": [
        {
          "output_type": "display_data",
          "data": {
            "text/plain": [
              "<Figure size 432x288 with 1 Axes>"
            ],
            "image/png": "[encoded data removed]"
          },
          "metadata": {
            "needs_background": "light"
          }
        },
        {
          "output_type": "display_data",
          "data": {
            "text/plain": [
              "<Figure size 432x288 with 1 Axes>"
            ],
            "image/png": "[encoded data removed]"
          },
          "metadata": {
            "needs_background": "light"
          }
        },
        {
          "output_type": "stream",
          "name": "stdout",
          "text": [
            "mean1: [-0.4   0.58]\n",
            "mean2: [ 0.7  -1.02]\n"
          ]
        }
      ]
    },
    {
      "cell_type": "markdown",
      "source": [
        "# Question 8"
      ],
      "metadata": {
        "id": "4inoG0dwEkZ2"
      }
    },
    {
      "cell_type": "code",
      "source": [
        "x1 = 0.8\n",
        "x2 = 0.8\n",
        "\n",
        "# move along x1:\n",
        "C = np.exp(x1**2 + 0.9*x1*x2 + 0.7*x2**2)\n",
        "dCdx1 = C * (2*x1 + 0.9*x2)\n",
        "# by making dCdx1 = 0:\n",
        "x1 = -0.9*x2 / 2\n",
        "print(x1, x2)\n",
        "\n",
        "# move along x2:\n",
        "C = np.exp(x1**2 + 0.9*x1*x2 + 0.7*x2**2)\n",
        "dCdx2 = C * (0.9*x1 + 1.4*x2)\n",
        "# by making dCdx1 = 0:\n",
        "x2 = -0.9*x1 / 1.4\n",
        "print(x1, x2)\n"
      ],
      "metadata": {
        "colab": {
          "base_uri": "https://localhost:8080/"
        },
        "id": "a5fDW0A-El0W",
        "outputId": "74d334a6-f7d9-408d-8c0f-5e7807bad459"
      },
      "execution_count": 93,
      "outputs": [
        {
          "output_type": "stream",
          "name": "stdout",
          "text": [
            "-0.36000000000000004 0.8\n",
            "-0.36000000000000004 0.23142857142857148\n"
          ]
        }
      ]
    },
    {
      "cell_type": "markdown",
      "source": [
        "# Question 9"
      ],
      "metadata": {
        "id": "WaaInmiHHJNZ"
      }
    },
    {
      "cell_type": "code",
      "source": [
        "def mapping(x):\n",
        "  return np.array([x[0], x[1], x[0]*x[1]])\n",
        "\n",
        "def find_g(w, w0, x):\n",
        "  return np.matmul(w, x) + w0\n",
        "\n",
        "a = mapping([0, 0.8])\n",
        "b = mapping([-1, 1])\n",
        "x = mapping([-1, 0])\n",
        "\n",
        "w = a - b\n",
        "midpoint = (a+b) / 2\n",
        "w0 = -np.matmul(w, midpoint)\n",
        "print(find_g(w, w0, midpoint))\n",
        "g_a = find_g(w, w0, a)\n",
        "print(g_a)\n",
        "g_b = find_g(w, w0, b)\n",
        "print(g_b)\n",
        "\n",
        "g_x = find_g(w, w0, x)\n",
        "print(g_x)\n",
        "if np.sign(g_x) == np.sign(g_a):\n",
        "  print('Class 0')\n",
        "else:\n",
        "  print('Class 1')"
      ],
      "metadata": {
        "colab": {
          "base_uri": "https://localhost:8080/"
        },
        "id": "s93LSdXMHKvl",
        "outputId": "c686e6af-09ca-4832-bbc5-05782ae35cd0"
      },
      "execution_count": 149,
      "outputs": [
        {
          "output_type": "stream",
          "name": "stdout",
          "text": [
            "0.0\n",
            "1.02\n",
            "-1.0200000000000002\n",
            "0.17999999999999994\n",
            "Class 0\n"
          ]
        }
      ]
    },
    {
      "cell_type": "markdown",
      "source": [
        "# Question 10"
      ],
      "metadata": {
        "id": "VRtCXx-FJW8M"
      }
    },
    {
      "cell_type": "markdown",
      "source": [
        "**(a)**\n",
        "\n",
        "(i). Smaller window has higher spatial resolution.\n",
        "(ii). Larger window has lower variance therefore more accurate."
      ],
      "metadata": {
        "id": "54C_zuMQJcqN"
      }
    },
    {
      "cell_type": "code",
      "source": [
        "# (b)\n",
        "def Parzen(x, xmid, h):\n",
        "  m = len(xmid)\n",
        "  S = 0\n",
        "  for i in range(m):\n",
        "    u = (x - xmid[i]) / h\n",
        "    S += (np.abs(u) < 0.5).astype('int')\n",
        "  p = 1 / (m*h) * S\n",
        "  return p\n",
        "\n",
        "h = 2\n",
        "x = np.linspace(-3, 3, 100)\n",
        "xmid = np.array([-0.6, 1.1])\n",
        "p = Parzen(x, xmid, h)\n",
        "plt.plot(x, p)\n",
        "\n",
        "# (c)\n",
        "h = 0.5\n",
        "xmid = np.array([[0.1, 0.8], [1.1, 2.8], [0.2, 1.5], [0.8, 2.1], [1.2, 2.2], [2.7, 2.1], [1.9, 0.1], \n",
        "         [1.1, 2.0], [2.3, 1.8], [1.4, 0.9], [0.2, 2.9], [0.7, 1.3], [0.3, 2.8], [1.6, 1.9], \n",
        "         [1.1, 2.1], [0.5, 2.0], [1.0, 0.9], [2.3, 0.2], [2.2, 1.5], [0.8, 0.2], [2.8, 1.3], \n",
        "         [0.8, 2.2], [1.9, 0.9], [1.4, 2.0], [0.3, 0.1], [2.9, 2.8], [0.8, 1.8], [0.6, 2.4],\n",
        "         ])\n",
        "X = np.array([[1, 2]])\n",
        "\n",
        "def Parzen2D(X, xmid, h):\n",
        "  m = len(xmid)\n",
        "  S = 0\n",
        "  for i in range(m):\n",
        "    u = (X - xmid[i]) / h\n",
        "    # print(u)\n",
        "    phi = ((np.abs(u[:, 0]) < 0.5) & (np.abs(u[:, 1]) < 0.5))\n",
        "    S += phi.astype('int')\n",
        "  p = 1 / (200*h**2) * S  # note I harcoded m to be 200 to be consistent with the question\n",
        "  return p\n",
        "\n",
        "p = Parzen2D(X, xmid, h)\n",
        "print(p)"
      ],
      "metadata": {
        "colab": {
          "base_uri": "https://localhost:8080/",
          "height": 283
        },
        "id": "RR4hU__3JWyW",
        "outputId": "831e3c36-5d5a-4a95-d013-3407e21932ec"
      },
      "execution_count": 148,
      "outputs": [
        {
          "output_type": "stream",
          "name": "stdout",
          "text": [
            "[0.12]\n"
          ]
        },
        {
          "output_type": "display_data",
          "data": {
            "text/plain": [
              "<Figure size 432x288 with 1 Axes>"
            ],
            "image/png": "[encoded data removed]"
          },
          "metadata": {
            "needs_background": "light"
          }
        }
      ]
    },
    {
      "cell_type": "code",
      "source": [
        "a = '''(0.1, 0.8), (1.1, 2.8), (0.2, 1.5), (0.8, 2.1), (1.2, 2.2), (2.7, 2.1), (1.9, 0.1), \n",
        "(1.1, 2.0), (2.3, 1.8), (1.4, 0.9), (0.2, 2.9), (0.7, 1.3), (0.3, 2.8), (1.6, 1.9), \n",
        "(1.1, 2.1), (0.5, 2.0), (1.0, 0.9), (2.3, 0.2), (2.2, 1.5), (0.8, 0.2), (2.8, 1.3), \n",
        "(0.8, 2.2), (1.9, 0.9), (1.4, 2.0), (0.3, 0.1), (2.9, 2.8), (0.8, 1.8), (0.6, 2.4)'''\n",
        "print(a.replace('(', '[').replace(')', ']'))"
      ],
      "metadata": {
        "colab": {
          "base_uri": "https://localhost:8080/"
        },
        "id": "AXxupgr3LZq4",
        "outputId": "3b9b5e2e-8a57-4db2-8f4e-f2ba165af379"
      },
      "execution_count": 105,
      "outputs": [
        {
          "output_type": "stream",
          "name": "stdout",
          "text": [
            "[0.1, 0.8], [1.1, 2.8], [0.2, 1.5], [0.8, 2.1], [1.2, 2.2], [2.7, 2.1], [1.9, 0.1], \n",
            "[1.1, 2.0], [2.3, 1.8], [1.4, 0.9], [0.2, 2.9], [0.7, 1.3], [0.3, 2.8], [1.6, 1.9], \n",
            "[1.1, 2.1], [0.5, 2.0], [1.0, 0.9], [2.3, 0.2], [2.2, 1.5], [0.8, 0.2], [2.8, 1.3], \n",
            "[0.8, 2.2], [1.9, 0.9], [1.4, 2.0], [0.3, 0.1], [2.9, 2.8], [0.8, 1.8], [0.6, 2.4]\n"
          ]
        }
      ]
    }
  ]
}